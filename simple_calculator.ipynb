{
  "nbformat": 4,
  "nbformat_minor": 0,
  "metadata": {
    "colab": {
      "provenance": []
    },
    "kernelspec": {
      "name": "python3",
      "display_name": "Python 3"
    },
    "language_info": {
      "name": "python"
    }
  },
  "cells": [
    {
      "cell_type": "code",
      "execution_count": null,
      "metadata": {
        "id": "zOB0loWaSyhH"
      },
      "outputs": [],
      "source": []
    },
    {
      "cell_type": "markdown",
      "source": [
        "PYTHON SIMPLE CALCULATOR"
      ],
      "metadata": {
        "id": "xRqGuKCAS1Nv"
      }
    },
    {
      "cell_type": "code",
      "source": [
        "def add(x,y):\n",
        "  return x+y\n",
        "def substract(x,y):\n",
        "  return x-y\n",
        "def multiply(x,y):\n",
        "  return x*y\n",
        "def divide(x,y):\n",
        "  if y != 0:\n",
        "      return x / y\n",
        "  else:\n",
        "       return\"error! division by zero.\"\n",
        "def calculator():\n",
        "    print(\"simple calculator\")\n",
        "    print(\" choose operation:\")\n",
        "    print(\"1.add\")\n",
        "    print(\"2.substract\")\n",
        "    print(\"3.multiply\")\n",
        "    print(\"4.divide\")\n",
        "    while True:\n",
        "        choice = input(\"enter choice (1/2/3/4):\")\n",
        "        if choice in ['1','2','3','4']:\n",
        "           num1=float(input(\"enter first number :\"))\n",
        "           num2=float(input(\"enter second number:\"))\n",
        "        if choice=='1':\n",
        "           print(f\"the result is:{add(num1,num2)}\")\n",
        "        elif choice=='2':\n",
        "           print(f\"the result is:{substract(num1,num2)}\")\n",
        "        elif choice=='3':\n",
        "           print(f\"the result is:{multiply(num1,num2)}\")\n",
        "        elif choice=='4':\n",
        "           print(f\"the result is:{divide(num1,num2)}\")\n",
        "        next_calculation=input(\"do you want to perform another calculation ?(yes/no):\")\n",
        "        if next_calculation.lower( ) !='yes':\n",
        "           break\n",
        "    else:\n",
        "        print(\"invalid input\")\n",
        "#run the calculator\n",
        "calculator()\n"
      ],
      "metadata": {
        "colab": {
          "base_uri": "https://localhost:8080/"
        },
        "id": "zxs0DojUS5EB",
        "outputId": "b9bb4948-1d61-4499-e57d-de017500dc3c"
      },
      "execution_count": null,
      "outputs": [
        {
          "name": "stdout",
          "output_type": "stream",
          "text": [
            "simple calculator\n",
            " choose operation:\n",
            "1.add\n",
            "2.substract\n",
            "3.multiply\n",
            "4.divide\n",
            "enter choice (1/2/3/4):3\n",
            "enter first number :3\n",
            "enter second number:2\n",
            "the result is:6.0\n",
            "do you want to perform another calculation ?(yes/no):no\n"
          ]
        }
      ]
    },
    {
      "cell_type": "code",
      "source": [],
      "metadata": {
        "id": "kdSkQ82dYEEc"
      },
      "execution_count": null,
      "outputs": []
    }
  ]
}